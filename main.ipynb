{
 "cells": [
  {
   "cell_type": "markdown",
   "metadata": {},
   "source": [
    "## First section - creating virtual environment to handle all code there"
   ]
  },
  {
   "cell_type": "code",
   "execution_count": null,
   "metadata": {},
   "outputs": [
    {
     "name": "stdout",
     "output_type": "stream",
     "text": [
      "Your current Python version: 3.10.11\n"
     ]
    }
   ],
   "source": [
    "# Check Python version\n",
    "import sys\n",
    "\n",
    "python_version = sys.version.split()[0]\n",
    "print(f\"Your current Python version: {python_version}\")"
   ]
  },
  {
   "cell_type": "code",
   "execution_count": 5,
   "metadata": {},
   "outputs": [],
   "source": [
    "# Please install Python3.10 version, if you don't have it yet and run the following code\n",
    "import platform\n",
    "system = platform.system()\n",
    "\n",
    "if system == \"Windows\":\n",
    "    !py -3.10 -m venv venv\n",
    "else: #Another version for Windows\n",
    "    !python3.10 -m venv venv"
   ]
  },
  {
   "cell_type": "code",
   "execution_count": 6,
   "metadata": {},
   "outputs": [
    {
     "name": "stdout",
     "output_type": "stream",
     "text": [
      "Collecting jupyter\n",
      "  Downloading jupyter-1.1.1-py2.py3-none-any.whl (2.7 kB)\n",
      "Requirement already satisfied: notebook in c:\\users\\bondi\\appdata\\local\\programs\\python\\python39\\lib\\site-packages (from -r requirements.txt (line 2)) (7.4.2)\n",
      "Requirement already satisfied: pandas in c:\\users\\bondi\\appdata\\local\\programs\\python\\python39\\lib\\site-packages (from -r requirements.txt (line 3)) (2.2.3)\n",
      "Collecting ipywidgets\n",
      "  Downloading ipywidgets-8.1.7-py3-none-any.whl (139 kB)\n",
      "Collecting jupyter-console\n",
      "  Downloading jupyter_console-6.6.3-py3-none-any.whl (24 kB)\n",
      "Requirement already satisfied: ipykernel in c:\\users\\bondi\\appdata\\local\\programs\\python\\python39\\lib\\site-packages (from jupyter->-r requirements.txt (line 1)) (6.29.5)\n",
      "Requirement already satisfied: jupyterlab in c:\\users\\bondi\\appdata\\local\\programs\\python\\python39\\lib\\site-packages (from jupyter->-r requirements.txt (line 1)) (4.4.2)\n",
      "Requirement already satisfied: nbconvert in c:\\users\\bondi\\appdata\\local\\programs\\python\\python39\\lib\\site-packages (from jupyter->-r requirements.txt (line 1)) (7.16.6)\n",
      "Requirement already satisfied: notebook-shim<0.3,>=0.2 in c:\\users\\bondi\\appdata\\local\\programs\\python\\python39\\lib\\site-packages (from notebook->-r requirements.txt (line 2)) (0.2.4)\n",
      "Requirement already satisfied: tornado>=6.2.0 in c:\\users\\bondi\\appdata\\local\\programs\\python\\python39\\lib\\site-packages (from notebook->-r requirements.txt (line 2)) (6.5)\n",
      "Requirement already satisfied: jupyterlab-server<3,>=2.27.1 in c:\\users\\bondi\\appdata\\local\\programs\\python\\python39\\lib\\site-packages (from notebook->-r requirements.txt (line 2)) (2.27.3)\n",
      "Requirement already satisfied: jupyter-server<3,>=2.4.0 in c:\\users\\bondi\\appdata\\local\\programs\\python\\python39\\lib\\site-packages (from notebook->-r requirements.txt (line 2)) (2.16.0)\n",
      "Requirement already satisfied: pytz>=2020.1 in c:\\users\\bondi\\appdata\\local\\programs\\python\\python39\\lib\\site-packages (from pandas->-r requirements.txt (line 3)) (2025.2)\n",
      "Requirement already satisfied: tzdata>=2022.7 in c:\\users\\bondi\\appdata\\local\\programs\\python\\python39\\lib\\site-packages (from pandas->-r requirements.txt (line 3)) (2025.2)\n",
      "Requirement already satisfied: numpy>=1.22.4; python_version < \"3.11\" in c:\\users\\bondi\\appdata\\local\\programs\\python\\python39\\lib\\site-packages (from pandas->-r requirements.txt (line 3)) (2.0.2)\n",
      "Requirement already satisfied: python-dateutil>=2.8.2 in c:\\users\\bondi\\appdata\\local\\programs\\python\\python39\\lib\\site-packages (from pandas->-r requirements.txt (line 3)) (2.9.0.post0)\n",
      "Requirement already satisfied: ipython>=6.1.0 in c:\\users\\bondi\\appdata\\local\\programs\\python\\python39\\lib\\site-packages (from ipywidgets->jupyter->-r requirements.txt (line 1)) (8.18.1)\n",
      "Requirement already satisfied: comm>=0.1.3 in c:\\users\\bondi\\appdata\\local\\programs\\python\\python39\\lib\\site-packages (from ipywidgets->jupyter->-r requirements.txt (line 1)) (0.2.2)\n",
      "Collecting jupyterlab_widgets~=3.0.15\n",
      "  Downloading jupyterlab_widgets-3.0.15-py3-none-any.whl (216 kB)\n",
      "Collecting widgetsnbextension~=4.0.14\n",
      "  Downloading widgetsnbextension-4.0.14-py3-none-any.whl (2.2 MB)\n",
      "Requirement already satisfied: traitlets>=4.3.1 in c:\\users\\bondi\\appdata\\local\\programs\\python\\python39\\lib\\site-packages (from ipywidgets->jupyter->-r requirements.txt (line 1)) (5.14.3)\n",
      "Requirement already satisfied: pyzmq>=17 in c:\\users\\bondi\\appdata\\local\\programs\\python\\python39\\lib\\site-packages (from jupyter-console->jupyter->-r requirements.txt (line 1)) (26.4.0)\n",
      "Requirement already satisfied: jupyter-client>=7.0.0 in c:\\users\\bondi\\appdata\\local\\programs\\python\\python39\\lib\\site-packages (from jupyter-console->jupyter->-r requirements.txt (line 1)) (8.6.3)\n",
      "Requirement already satisfied: jupyter-core!=5.0.*,>=4.12 in c:\\users\\bondi\\appdata\\local\\programs\\python\\python39\\lib\\site-packages (from jupyter-console->jupyter->-r requirements.txt (line 1)) (5.7.2)\n",
      "Requirement already satisfied: prompt-toolkit>=3.0.30 in c:\\users\\bondi\\appdata\\local\\programs\\python\\python39\\lib\\site-packages (from jupyter-console->jupyter->-r requirements.txt (line 1)) (3.0.51)\n",
      "Requirement already satisfied: pygments in c:\\users\\bondi\\appdata\\local\\programs\\python\\python39\\lib\\site-packages (from jupyter-console->jupyter->-r requirements.txt (line 1)) (2.19.1)\n",
      "Requirement already satisfied: nest-asyncio in c:\\users\\bondi\\appdata\\local\\programs\\python\\python39\\lib\\site-packages (from ipykernel->jupyter->-r requirements.txt (line 1)) (1.6.0)\n",
      "Requirement already satisfied: packaging in c:\\users\\bondi\\appdata\\local\\programs\\python\\python39\\lib\\site-packages (from ipykernel->jupyter->-r requirements.txt (line 1)) (25.0)\n",
      "Requirement already satisfied: psutil in c:\\users\\bondi\\appdata\\local\\programs\\python\\python39\\lib\\site-packages (from ipykernel->jupyter->-r requirements.txt (line 1)) (7.0.0)\n",
      "Requirement already satisfied: matplotlib-inline>=0.1 in c:\\users\\bondi\\appdata\\local\\programs\\python\\python39\\lib\\site-packages (from ipykernel->jupyter->-r requirements.txt (line 1)) (0.1.7)\n",
      "Requirement already satisfied: debugpy>=1.6.5 in c:\\users\\bondi\\appdata\\local\\programs\\python\\python39\\lib\\site-packages (from ipykernel->jupyter->-r requirements.txt (line 1)) (1.8.14)\n",
      "Requirement already satisfied: tomli>=1.2.2; python_version < \"3.11\" in c:\\users\\bondi\\appdata\\local\\programs\\python\\python39\\lib\\site-packages (from jupyterlab->jupyter->-r requirements.txt (line 1)) (2.2.1)\n",
      "Requirement already satisfied: async-lru>=1.0.0 in c:\\users\\bondi\\appdata\\local\\programs\\python\\python39\\lib\\site-packages (from jupyterlab->jupyter->-r requirements.txt (line 1)) (2.0.5)\n",
      "Requirement already satisfied: setuptools>=41.1.0 in c:\\users\\bondi\\appdata\\local\\programs\\python\\python39\\lib\\site-packages (from jupyterlab->jupyter->-r requirements.txt (line 1)) (49.2.1)\n",
      "Requirement already satisfied: httpx>=0.25.0 in c:\\users\\bondi\\appdata\\local\\programs\\python\\python39\\lib\\site-packages (from jupyterlab->jupyter->-r requirements.txt (line 1)) (0.28.1)\n",
      "Requirement already satisfied: jupyter-lsp>=2.0.0 in c:\\users\\bondi\\appdata\\local\\programs\\python\\python39\\lib\\site-packages (from jupyterlab->jupyter->-r requirements.txt (line 1)) (2.2.5)\n",
      "Requirement already satisfied: jinja2>=3.0.3 in c:\\users\\bondi\\appdata\\local\\programs\\python\\python39\\lib\\site-packages (from jupyterlab->jupyter->-r requirements.txt (line 1)) (3.1.6)\n",
      "Requirement already satisfied: importlib-metadata>=4.8.3; python_version < \"3.10\" in c:\\users\\bondi\\appdata\\local\\programs\\python\\python39\\lib\\site-packages (from jupyterlab->jupyter->-r requirements.txt (line 1)) (8.7.0)\n",
      "Requirement already satisfied: beautifulsoup4 in c:\\users\\bondi\\appdata\\local\\programs\\python\\python39\\lib\\site-packages (from nbconvert->jupyter->-r requirements.txt (line 1)) (4.13.4)\n",
      "Requirement already satisfied: nbclient>=0.5.0 in c:\\users\\bondi\\appdata\\local\\programs\\python\\python39\\lib\\site-packages (from nbconvert->jupyter->-r requirements.txt (line 1)) (0.10.2)\n",
      "Requirement already satisfied: markupsafe>=2.0 in c:\\users\\bondi\\appdata\\local\\programs\\python\\python39\\lib\\site-packages (from nbconvert->jupyter->-r requirements.txt (line 1)) (3.0.2)\n",
      "Requirement already satisfied: nbformat>=5.7 in c:\\users\\bondi\\appdata\\local\\programs\\python\\python39\\lib\\site-packages (from nbconvert->jupyter->-r requirements.txt (line 1)) (5.10.4)\n",
      "Requirement already satisfied: bleach[css]!=5.0.0 in c:\\users\\bondi\\appdata\\local\\programs\\python\\python39\\lib\\site-packages (from nbconvert->jupyter->-r requirements.txt (line 1)) (6.2.0)\n",
      "Requirement already satisfied: mistune<4,>=2.0.3 in c:\\users\\bondi\\appdata\\local\\programs\\python\\python39\\lib\\site-packages (from nbconvert->jupyter->-r requirements.txt (line 1)) (3.1.3)\n",
      "Requirement already satisfied: defusedxml in c:\\users\\bondi\\appdata\\local\\programs\\python\\python39\\lib\\site-packages (from nbconvert->jupyter->-r requirements.txt (line 1)) (0.7.1)\n",
      "Requirement already satisfied: pandocfilters>=1.4.1 in c:\\users\\bondi\\appdata\\local\\programs\\python\\python39\\lib\\site-packages (from nbconvert->jupyter->-r requirements.txt (line 1)) (1.5.1)\n",
      "Requirement already satisfied: jupyterlab-pygments in c:\\users\\bondi\\appdata\\local\\programs\\python\\python39\\lib\\site-packages (from nbconvert->jupyter->-r requirements.txt (line 1)) (0.3.0)\n",
      "Requirement already satisfied: babel>=2.10 in c:\\users\\bondi\\appdata\\local\\programs\\python\\python39\\lib\\site-packages (from jupyterlab-server<3,>=2.27.1->notebook->-r requirements.txt (line 2)) (2.17.0)\n",
      "Requirement already satisfied: requests>=2.31 in c:\\users\\bondi\\appdata\\local\\programs\\python\\python39\\lib\\site-packages (from jupyterlab-server<3,>=2.27.1->notebook->-r requirements.txt (line 2)) (2.32.3)\n",
      "Requirement already satisfied: jsonschema>=4.18.0 in c:\\users\\bondi\\appdata\\local\\programs\\python\\python39\\lib\\site-packages (from jupyterlab-server<3,>=2.27.1->notebook->-r requirements.txt (line 2)) (4.23.0)\n",
      "Requirement already satisfied: json5>=0.9.0 in c:\\users\\bondi\\appdata\\local\\programs\\python\\python39\\lib\\site-packages (from jupyterlab-server<3,>=2.27.1->notebook->-r requirements.txt (line 2)) (0.12.0)\n",
      "Requirement already satisfied: anyio>=3.1.0 in c:\\users\\bondi\\appdata\\local\\programs\\python\\python39\\lib\\site-packages (from jupyter-server<3,>=2.4.0->notebook->-r requirements.txt (line 2)) (4.9.0)\n",
      "Requirement already satisfied: pywinpty>=2.0.1; os_name == \"nt\" in c:\\users\\bondi\\appdata\\local\\programs\\python\\python39\\lib\\site-packages (from jupyter-server<3,>=2.4.0->notebook->-r requirements.txt (line 2)) (2.0.15)\n",
      "Requirement already satisfied: overrides>=5.0 in c:\\users\\bondi\\appdata\\local\\programs\\python\\python39\\lib\\site-packages (from jupyter-server<3,>=2.4.0->notebook->-r requirements.txt (line 2)) (7.7.0)\n",
      "Requirement already satisfied: argon2-cffi>=21.1 in c:\\users\\bondi\\appdata\\local\\programs\\python\\python39\\lib\\site-packages (from jupyter-server<3,>=2.4.0->notebook->-r requirements.txt (line 2)) (23.1.0)\n",
      "Requirement already satisfied: send2trash>=1.8.2 in c:\\users\\bondi\\appdata\\local\\programs\\python\\python39\\lib\\site-packages (from jupyter-server<3,>=2.4.0->notebook->-r requirements.txt (line 2)) (1.8.3)\n",
      "Requirement already satisfied: terminado>=0.8.3 in c:\\users\\bondi\\appdata\\local\\programs\\python\\python39\\lib\\site-packages (from jupyter-server<3,>=2.4.0->notebook->-r requirements.txt (line 2)) (0.18.1)\n",
      "Requirement already satisfied: jupyter-server-terminals>=0.4.4 in c:\\users\\bondi\\appdata\\local\\programs\\python\\python39\\lib\\site-packages (from jupyter-server<3,>=2.4.0->notebook->-r requirements.txt (line 2)) (0.5.3)\n",
      "Requirement already satisfied: jupyter-events>=0.11.0 in c:\\users\\bondi\\appdata\\local\\programs\\python\\python39\\lib\\site-packages (from jupyter-server<3,>=2.4.0->notebook->-r requirements.txt (line 2)) (0.12.0)\n",
      "Requirement already satisfied: prometheus-client>=0.9 in c:\\users\\bondi\\appdata\\local\\programs\\python\\python39\\lib\\site-packages (from jupyter-server<3,>=2.4.0->notebook->-r requirements.txt (line 2)) (0.22.0)\n",
      "Requirement already satisfied: websocket-client>=1.7 in c:\\users\\bondi\\appdata\\local\\programs\\python\\python39\\lib\\site-packages (from jupyter-server<3,>=2.4.0->notebook->-r requirements.txt (line 2)) (1.8.0)\n",
      "Requirement already satisfied: six>=1.5 in c:\\users\\bondi\\appdata\\local\\programs\\python\\python39\\lib\\site-packages (from python-dateutil>=2.8.2->pandas->-r requirements.txt (line 3)) (1.17.0)\n",
      "Requirement already satisfied: colorama; sys_platform == \"win32\" in c:\\users\\bondi\\appdata\\local\\programs\\python\\python39\\lib\\site-packages (from ipython>=6.1.0->ipywidgets->jupyter->-r requirements.txt (line 1)) (0.4.6)\n",
      "Requirement already satisfied: typing-extensions; python_version < \"3.10\" in c:\\users\\bondi\\appdata\\local\\programs\\python\\python39\\lib\\site-packages (from ipython>=6.1.0->ipywidgets->jupyter->-r requirements.txt (line 1)) (4.13.2)\n",
      "Requirement already satisfied: decorator in c:\\users\\bondi\\appdata\\local\\programs\\python\\python39\\lib\\site-packages (from ipython>=6.1.0->ipywidgets->jupyter->-r requirements.txt (line 1)) (5.2.1)\n",
      "Requirement already satisfied: jedi>=0.16 in c:\\users\\bondi\\appdata\\local\\programs\\python\\python39\\lib\\site-packages (from ipython>=6.1.0->ipywidgets->jupyter->-r requirements.txt (line 1)) (0.19.2)\n",
      "Requirement already satisfied: stack-data in c:\\users\\bondi\\appdata\\local\\programs\\python\\python39\\lib\\site-packages (from ipython>=6.1.0->ipywidgets->jupyter->-r requirements.txt (line 1)) (0.6.3)\n",
      "Requirement already satisfied: exceptiongroup; python_version < \"3.11\" in c:\\users\\bondi\\appdata\\local\\programs\\python\\python39\\lib\\site-packages (from ipython>=6.1.0->ipywidgets->jupyter->-r requirements.txt (line 1)) (1.3.0)\n",
      "Requirement already satisfied: platformdirs>=2.5 in c:\\users\\bondi\\appdata\\local\\programs\\python\\python39\\lib\\site-packages (from jupyter-core!=5.0.*,>=4.12->jupyter-console->jupyter->-r requirements.txt (line 1)) (4.3.8)\n",
      "Requirement already satisfied: pywin32>=300; sys_platform == \"win32\" and platform_python_implementation != \"PyPy\" in c:\\users\\bondi\\appdata\\local\\programs\\python\\python39\\lib\\site-packages (from jupyter-core!=5.0.*,>=4.12->jupyter-console->jupyter->-r requirements.txt (line 1)) (310)\n",
      "Requirement already satisfied: wcwidth in c:\\users\\bondi\\appdata\\local\\programs\\python\\python39\\lib\\site-packages (from prompt-toolkit>=3.0.30->jupyter-console->jupyter->-r requirements.txt (line 1)) (0.2.13)\n",
      "Requirement already satisfied: idna in c:\\users\\bondi\\appdata\\local\\programs\\python\\python39\\lib\\site-packages (from httpx>=0.25.0->jupyterlab->jupyter->-r requirements.txt (line 1)) (3.10)\n",
      "Requirement already satisfied: certifi in c:\\users\\bondi\\appdata\\local\\programs\\python\\python39\\lib\\site-packages (from httpx>=0.25.0->jupyterlab->jupyter->-r requirements.txt (line 1)) (2025.4.26)\n",
      "Requirement already satisfied: httpcore==1.* in c:\\users\\bondi\\appdata\\local\\programs\\python\\python39\\lib\\site-packages (from httpx>=0.25.0->jupyterlab->jupyter->-r requirements.txt (line 1)) (1.0.9)\n",
      "Requirement already satisfied: zipp>=3.20 in c:\\users\\bondi\\appdata\\local\\programs\\python\\python39\\lib\\site-packages (from importlib-metadata>=4.8.3; python_version < \"3.10\"->jupyterlab->jupyter->-r requirements.txt (line 1)) (3.21.0)\n",
      "Requirement already satisfied: soupsieve>1.2 in c:\\users\\bondi\\appdata\\local\\programs\\python\\python39\\lib\\site-packages (from beautifulsoup4->nbconvert->jupyter->-r requirements.txt (line 1)) (2.7)\n",
      "Requirement already satisfied: fastjsonschema>=2.15 in c:\\users\\bondi\\appdata\\local\\programs\\python\\python39\\lib\\site-packages (from nbformat>=5.7->nbconvert->jupyter->-r requirements.txt (line 1)) (2.21.1)\n",
      "Requirement already satisfied: webencodings in c:\\users\\bondi\\appdata\\local\\programs\\python\\python39\\lib\\site-packages (from bleach[css]!=5.0.0->nbconvert->jupyter->-r requirements.txt (line 1)) (0.5.1)\n",
      "Requirement already satisfied: tinycss2<1.5,>=1.1.0; extra == \"css\" in c:\\users\\bondi\\appdata\\local\\programs\\python\\python39\\lib\\site-packages (from bleach[css]!=5.0.0->nbconvert->jupyter->-r requirements.txt (line 1)) (1.4.0)\n",
      "Requirement already satisfied: charset-normalizer<4,>=2 in c:\\users\\bondi\\appdata\\local\\programs\\python\\python39\\lib\\site-packages (from requests>=2.31->jupyterlab-server<3,>=2.27.1->notebook->-r requirements.txt (line 2)) (3.4.2)\n",
      "Requirement already satisfied: urllib3<3,>=1.21.1 in c:\\users\\bondi\\appdata\\local\\programs\\python\\python39\\lib\\site-packages (from requests>=2.31->jupyterlab-server<3,>=2.27.1->notebook->-r requirements.txt (line 2)) (2.4.0)\n",
      "Requirement already satisfied: jsonschema-specifications>=2023.03.6 in c:\\users\\bondi\\appdata\\local\\programs\\python\\python39\\lib\\site-packages (from jsonschema>=4.18.0->jupyterlab-server<3,>=2.27.1->notebook->-r requirements.txt (line 2)) (2025.4.1)\n",
      "Requirement already satisfied: attrs>=22.2.0 in c:\\users\\bondi\\appdata\\local\\programs\\python\\python39\\lib\\site-packages (from jsonschema>=4.18.0->jupyterlab-server<3,>=2.27.1->notebook->-r requirements.txt (line 2)) (25.3.0)\n",
      "Requirement already satisfied: referencing>=0.28.4 in c:\\users\\bondi\\appdata\\local\\programs\\python\\python39\\lib\\site-packages (from jsonschema>=4.18.0->jupyterlab-server<3,>=2.27.1->notebook->-r requirements.txt (line 2)) (0.36.2)\n",
      "Requirement already satisfied: rpds-py>=0.7.1 in c:\\users\\bondi\\appdata\\local\\programs\\python\\python39\\lib\\site-packages (from jsonschema>=4.18.0->jupyterlab-server<3,>=2.27.1->notebook->-r requirements.txt (line 2)) (0.25.0)\n",
      "Requirement already satisfied: sniffio>=1.1 in c:\\users\\bondi\\appdata\\local\\programs\\python\\python39\\lib\\site-packages (from anyio>=3.1.0->jupyter-server<3,>=2.4.0->notebook->-r requirements.txt (line 2)) (1.3.1)\n",
      "Requirement already satisfied: argon2-cffi-bindings in c:\\users\\bondi\\appdata\\local\\programs\\python\\python39\\lib\\site-packages (from argon2-cffi>=21.1->jupyter-server<3,>=2.4.0->notebook->-r requirements.txt (line 2)) (21.2.0)\n",
      "Requirement already satisfied: rfc3339-validator in c:\\users\\bondi\\appdata\\local\\programs\\python\\python39\\lib\\site-packages (from jupyter-events>=0.11.0->jupyter-server<3,>=2.4.0->notebook->-r requirements.txt (line 2)) (0.1.4)\n",
      "Requirement already satisfied: pyyaml>=5.3 in c:\\users\\bondi\\appdata\\local\\programs\\python\\python39\\lib\\site-packages (from jupyter-events>=0.11.0->jupyter-server<3,>=2.4.0->notebook->-r requirements.txt (line 2)) (6.0.2)\n",
      "Requirement already satisfied: python-json-logger>=2.0.4 in c:\\users\\bondi\\appdata\\local\\programs\\python\\python39\\lib\\site-packages (from jupyter-events>=0.11.0->jupyter-server<3,>=2.4.0->notebook->-r requirements.txt (line 2)) (3.3.0)\n",
      "Requirement already satisfied: rfc3986-validator>=0.1.1 in c:\\users\\bondi\\appdata\\local\\programs\\python\\python39\\lib\\site-packages (from jupyter-events>=0.11.0->jupyter-server<3,>=2.4.0->notebook->-r requirements.txt (line 2)) (0.1.1)\n",
      "Requirement already satisfied: parso<0.9.0,>=0.8.4 in c:\\users\\bondi\\appdata\\local\\programs\\python\\python39\\lib\\site-packages (from jedi>=0.16->ipython>=6.1.0->ipywidgets->jupyter->-r requirements.txt (line 1)) (0.8.4)\n",
      "Requirement already satisfied: executing>=1.2.0 in c:\\users\\bondi\\appdata\\local\\programs\\python\\python39\\lib\\site-packages (from stack-data->ipython>=6.1.0->ipywidgets->jupyter->-r requirements.txt (line 1)) (2.2.0)\n",
      "Requirement already satisfied: pure-eval in c:\\users\\bondi\\appdata\\local\\programs\\python\\python39\\lib\\site-packages (from stack-data->ipython>=6.1.0->ipywidgets->jupyter->-r requirements.txt (line 1)) (0.2.3)\n",
      "Requirement already satisfied: asttokens>=2.1.0 in c:\\users\\bondi\\appdata\\local\\programs\\python\\python39\\lib\\site-packages (from stack-data->ipython>=6.1.0->ipywidgets->jupyter->-r requirements.txt (line 1)) (3.0.0)\n",
      "Requirement already satisfied: h11>=0.16 in c:\\users\\bondi\\appdata\\local\\programs\\python\\python39\\lib\\site-packages (from httpcore==1.*->httpx>=0.25.0->jupyterlab->jupyter->-r requirements.txt (line 1)) (0.16.0)\n",
      "Requirement already satisfied: cffi>=1.0.1 in c:\\users\\bondi\\appdata\\local\\programs\\python\\python39\\lib\\site-packages (from argon2-cffi-bindings->argon2-cffi>=21.1->jupyter-server<3,>=2.4.0->notebook->-r requirements.txt (line 2)) (1.17.1)\n",
      "Requirement already satisfied: pycparser in c:\\users\\bondi\\appdata\\local\\programs\\python\\python39\\lib\\site-packages (from cffi>=1.0.1->argon2-cffi-bindings->argon2-cffi>=21.1->jupyter-server<3,>=2.4.0->notebook->-r requirements.txt (line 2)) (2.22)\n",
      "Installing collected packages: jupyterlab-widgets, widgetsnbextension, ipywidgets, jupyter-console, jupyter\n",
      "Successfully installed ipywidgets-8.1.7 jupyter-1.1.1 jupyter-console-6.6.3 jupyterlab-widgets-3.0.15 widgetsnbextension-4.0.14\n"
     ]
    },
    {
     "name": "stderr",
     "output_type": "stream",
     "text": [
      "WARNING: You are using pip version 20.2.3; however, version 25.1.1 is available.\n",
      "You should consider upgrading via the 'c:\\users\\bondi\\appdata\\local\\programs\\python\\python39\\python.exe -m pip install --upgrade pip' command.\n"
     ]
    }
   ],
   "source": [
    "# Install packages from requirements.txt\n",
    "!pip install -r requirements.txt"
   ]
  },
  {
   "cell_type": "code",
   "execution_count": null,
   "metadata": {},
   "outputs": [],
   "source": []
  }
 ],
 "metadata": {
  "kernelspec": {
   "display_name": "Python 3",
   "language": "python",
   "name": "python3"
  },
  "language_info": {
   "codemirror_mode": {
    "name": "ipython",
    "version": 3
   },
   "file_extension": ".py",
   "mimetype": "text/x-python",
   "name": "python",
   "nbconvert_exporter": "python",
   "pygments_lexer": "ipython3",
   "version": "3.10.11"
  }
 },
 "nbformat": 4,
 "nbformat_minor": 2
}
